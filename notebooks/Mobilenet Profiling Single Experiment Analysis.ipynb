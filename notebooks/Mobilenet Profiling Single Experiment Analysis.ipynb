{
 "cells": [
  {
   "cell_type": "code",
   "execution_count": 1,
   "id": "48649184",
   "metadata": {
    "pycharm": {
     "name": "#%%\n"
    }
   },
   "outputs": [],
   "source": [
    "from galileojp.k3s import K3SGateway\n",
    "\n",
    "import datetime\n",
    "import json\n",
    "from collections import defaultdict\n",
    "import pandas as pd\n",
    "from matplotlib.dates import DateFormatter\n",
    "import seaborn as sns\n",
    "import numpy as np\n",
    "\n",
    "import matplotlib.pyplot as plt\n",
    "plt.rcParams.update({'font.size': 11})"
   ]
  },
  {
   "cell_type": "code",
   "execution_count": 2,
   "id": "2ddc73f1",
   "metadata": {
    "pycharm": {
     "name": "#%%\n"
    }
   },
   "outputs": [],
   "source": [
    "gw = K3SGateway.from_env()"
   ]
  },
  {
   "cell_type": "code",
   "execution_count": 3,
   "id": "dc27eb86",
   "metadata": {
    "pycharm": {
     "name": "#%%\n"
    }
   },
   "outputs": [
    {
     "data": {
      "text/html": [
       "<div>\n",
       "<style scoped>\n",
       "    .dataframe tbody tr th:only-of-type {\n",
       "        vertical-align: middle;\n",
       "    }\n",
       "\n",
       "    .dataframe tbody tr th {\n",
       "        vertical-align: top;\n",
       "    }\n",
       "\n",
       "    .dataframe thead th {\n",
       "        text-align: right;\n",
       "    }\n",
       "</style>\n",
       "<table border=\"1\" class=\"dataframe\">\n",
       "  <thead>\n",
       "    <tr style=\"text-align: right;\">\n",
       "      <th></th>\n",
       "      <th>EXP_ID</th>\n",
       "      <th>NAME</th>\n",
       "      <th>CREATOR</th>\n",
       "      <th>START</th>\n",
       "      <th>END</th>\n",
       "      <th>CREATED</th>\n",
       "      <th>STATUS</th>\n",
       "      <th>metadata</th>\n",
       "    </tr>\n",
       "  </thead>\n",
       "  <tbody>\n",
       "    <tr>\n",
       "      <th>1719</th>\n",
       "      <td>202207171632-ef3d</td>\n",
       "      <td>mobilenet-clients-1-1658075530</td>\n",
       "      <td>edgerun</td>\n",
       "      <td>1.658076e+09</td>\n",
       "      <td>1.658076e+09</td>\n",
       "      <td>1.658076e+09</td>\n",
       "      <td>FINISHED</td>\n",
       "      <td>{\"service\": {\"name\": \"mobilenet\", \"location\": ...</td>\n",
       "    </tr>\n",
       "    <tr>\n",
       "      <th>1717</th>\n",
       "      <td>202207171626-78ac</td>\n",
       "      <td>mobilenet-clients-1-1658075189</td>\n",
       "      <td>edgerun</td>\n",
       "      <td>1.658075e+09</td>\n",
       "      <td>1.658075e+09</td>\n",
       "      <td>1.658075e+09</td>\n",
       "      <td>FINISHED</td>\n",
       "      <td>{\"service\": {\"name\": \"mobilenet\", \"location\": ...</td>\n",
       "    </tr>\n",
       "    <tr>\n",
       "      <th>1715</th>\n",
       "      <td>202207171621-67d6</td>\n",
       "      <td>mobilenet-clients-1-1658074866</td>\n",
       "      <td>edgerun</td>\n",
       "      <td>1.658075e+09</td>\n",
       "      <td>1.658075e+09</td>\n",
       "      <td>1.658075e+09</td>\n",
       "      <td>FINISHED</td>\n",
       "      <td>{\"service\": {\"name\": \"mobilenet\", \"location\": ...</td>\n",
       "    </tr>\n",
       "    <tr>\n",
       "      <th>1713</th>\n",
       "      <td>202207171617-e177</td>\n",
       "      <td>mobilenet-clients-1-1658074678</td>\n",
       "      <td>edgerun</td>\n",
       "      <td>1.658075e+09</td>\n",
       "      <td>1.658075e+09</td>\n",
       "      <td>1.658075e+09</td>\n",
       "      <td>FINISHED</td>\n",
       "      <td>{\"service\": {\"name\": \"mobilenet\", \"location\": ...</td>\n",
       "    </tr>\n",
       "    <tr>\n",
       "      <th>1725</th>\n",
       "      <td>202207171704-8e6c</td>\n",
       "      <td>mobilenet-clients-1-1658073841</td>\n",
       "      <td>philipp</td>\n",
       "      <td>1.658074e+09</td>\n",
       "      <td>1.658074e+09</td>\n",
       "      <td>1.658074e+09</td>\n",
       "      <td>FINISHED</td>\n",
       "      <td>{\"service\": {\"name\": \"mobilenet\", \"location\": ...</td>\n",
       "    </tr>\n",
       "  </tbody>\n",
       "</table>\n",
       "</div>"
      ],
      "text/plain": [
       "                 EXP_ID                            NAME  CREATOR  \\\n",
       "1719  202207171632-ef3d  mobilenet-clients-1-1658075530  edgerun   \n",
       "1717  202207171626-78ac  mobilenet-clients-1-1658075189  edgerun   \n",
       "1715  202207171621-67d6  mobilenet-clients-1-1658074866  edgerun   \n",
       "1713  202207171617-e177  mobilenet-clients-1-1658074678  edgerun   \n",
       "1725  202207171704-8e6c  mobilenet-clients-1-1658073841  philipp   \n",
       "\n",
       "             START           END       CREATED    STATUS  \\\n",
       "1719  1.658076e+09  1.658076e+09  1.658076e+09  FINISHED   \n",
       "1717  1.658075e+09  1.658075e+09  1.658075e+09  FINISHED   \n",
       "1715  1.658075e+09  1.658075e+09  1.658075e+09  FINISHED   \n",
       "1713  1.658075e+09  1.658075e+09  1.658075e+09  FINISHED   \n",
       "1725  1.658074e+09  1.658074e+09  1.658074e+09  FINISHED   \n",
       "\n",
       "                                               metadata  \n",
       "1719  {\"service\": {\"name\": \"mobilenet\", \"location\": ...  \n",
       "1717  {\"service\": {\"name\": \"mobilenet\", \"location\": ...  \n",
       "1715  {\"service\": {\"name\": \"mobilenet\", \"location\": ...  \n",
       "1713  {\"service\": {\"name\": \"mobilenet\", \"location\": ...  \n",
       "1725  {\"service\": {\"name\": \"mobilenet\", \"location\": ...  "
      ]
     },
     "execution_count": 3,
     "metadata": {},
     "output_type": "execute_result"
    }
   ],
   "source": [
    "gw.experiments().sort_values(by='CREATED', ascending=False).head(5)"
   ]
  },
  {
   "cell_type": "markdown",
   "id": "2688d600",
   "metadata": {},
   "source": [
    "# Single experiment\n",
    "\n",
    "In the following we want to investage on specific experiments"
   ]
  },
  {
   "cell_type": "code",
   "execution_count": 4,
   "id": "6c36c8f5",
   "metadata": {
    "pycharm": {
     "name": "#%%\n"
    }
   },
   "outputs": [],
   "source": [
    "exp_id = '202207171617-e177'"
   ]
  },
  {
   "cell_type": "code",
   "execution_count": 5,
   "id": "994c946a",
   "metadata": {},
   "outputs": [
    {
     "data": {
      "text/plain": [
       "{'service': {'name': 'mobilenet',\n",
       "  'location': 'data/pictures/dog.jpg',\n",
       "  'remote': False},\n",
       " 'exp': {'requests': {'n': 100, 'ia': 1, 'n_clients': 1, 'no_pods': 1},\n",
       "  'host': 'eb-b-xeongpu-0',\n",
       "  'zone': 'zone-b',\n",
       "  'app_name': 'mobilenet',\n",
       "  'app_container_image': 'edgerun/mobilenet-inference:1.0.0'},\n",
       " 'exp_id': '202207171617-e177'}"
      ]
     },
     "execution_count": 5,
     "metadata": {},
     "output_type": "execute_result"
    }
   ],
   "source": [
    "exp_params = gw.get_exp_params(exp_id)\n",
    "exp_params"
   ]
  },
  {
   "cell_type": "code",
   "execution_count": 6,
   "id": "40206c52",
   "metadata": {},
   "outputs": [],
   "source": [
    "node = exp_params['exp']['host']"
   ]
  },
  {
   "cell_type": "markdown",
   "id": "e09658f4",
   "metadata": {},
   "source": [
    "# Trace analysis"
   ]
  },
  {
   "cell_type": "code",
   "execution_count": 7,
   "id": "dbb8086e",
   "metadata": {
    "pycharm": {
     "name": "#%%\n"
    }
   },
   "outputs": [
    {
     "name": "stdout",
     "output_type": "stream",
     "text": [
      "original traces size: 100\n",
      "after -1 filter traces size: 100\n"
     ]
    },
    {
     "data": {
      "text/html": [
       "<div>\n",
       "<style scoped>\n",
       "    .dataframe tbody tr th:only-of-type {\n",
       "        vertical-align: middle;\n",
       "    }\n",
       "\n",
       "    .dataframe tbody tr th {\n",
       "        vertical-align: top;\n",
       "    }\n",
       "\n",
       "    .dataframe thead th {\n",
       "        text-align: right;\n",
       "    }\n",
       "</style>\n",
       "<table border=\"1\" class=\"dataframe\">\n",
       "  <thead>\n",
       "    <tr style=\"text-align: right;\">\n",
       "      <th></th>\n",
       "      <th>result</th>\n",
       "      <th>table</th>\n",
       "      <th>_start</th>\n",
       "      <th>_stop</th>\n",
       "      <th>_time</th>\n",
       "      <th>value</th>\n",
       "      <th>_field</th>\n",
       "      <th>_measurement</th>\n",
       "      <th>client</th>\n",
       "      <th>created</th>\n",
       "      <th>...</th>\n",
       "      <th>end</th>\n",
       "      <th>exec</th>\n",
       "      <th>latency</th>\n",
       "      <th>final_ip</th>\n",
       "      <th>final_port</th>\n",
       "      <th>pod_name</th>\n",
       "      <th>pod_image</th>\n",
       "      <th>function</th>\n",
       "      <th>dest_zone</th>\n",
       "      <th>dest_cluster</th>\n",
       "    </tr>\n",
       "    <tr>\n",
       "      <th>sent</th>\n",
       "      <th></th>\n",
       "      <th></th>\n",
       "      <th></th>\n",
       "      <th></th>\n",
       "      <th></th>\n",
       "      <th></th>\n",
       "      <th></th>\n",
       "      <th></th>\n",
       "      <th></th>\n",
       "      <th></th>\n",
       "      <th></th>\n",
       "      <th></th>\n",
       "      <th></th>\n",
       "      <th></th>\n",
       "      <th></th>\n",
       "      <th></th>\n",
       "      <th></th>\n",
       "      <th></th>\n",
       "      <th></th>\n",
       "      <th></th>\n",
       "      <th></th>\n",
       "    </tr>\n",
       "  </thead>\n",
       "  <tbody>\n",
       "    <tr>\n",
       "      <th>1970-01-01 00:01:39.201430857</th>\n",
       "      <td>_result</td>\n",
       "      <td>95</td>\n",
       "      <td>1970-01-01 00:00:00+00:00</td>\n",
       "      <td>2022-07-18 16:40:51.350943+00:00</td>\n",
       "      <td>2022-07-17 16:19:38.527000+00:00</td>\n",
       "      <td>5916cb982f:96</td>\n",
       "      <td>request_id</td>\n",
       "      <td>traces</td>\n",
       "      <td>galileo-worker-zone-b-rrllh:mobilenet-zone-b:470</td>\n",
       "      <td>99.201151</td>\n",
       "      <td>...</td>\n",
       "      <td>99.469750</td>\n",
       "      <td>0.260829</td>\n",
       "      <td>10.755777</td>\n",
       "      <td>10.42.26.214</td>\n",
       "      <td>8080</td>\n",
       "      <td>mobilenet-deployment-eb-b-xeongpu-0-0</td>\n",
       "      <td>edgerun/mobilenet-inference:1.0.0</td>\n",
       "      <td>mobilenet</td>\n",
       "      <td>zone-b</td>\n",
       "      <td>Cloudlet</td>\n",
       "    </tr>\n",
       "    <tr>\n",
       "      <th>1970-01-01 00:01:40.203507482</th>\n",
       "      <td>_result</td>\n",
       "      <td>96</td>\n",
       "      <td>1970-01-01 00:00:00+00:00</td>\n",
       "      <td>2022-07-18 16:40:51.350943+00:00</td>\n",
       "      <td>2022-07-17 16:19:39.529000+00:00</td>\n",
       "      <td>5916cb982f:97</td>\n",
       "      <td>request_id</td>\n",
       "      <td>traces</td>\n",
       "      <td>galileo-worker-zone-b-rrllh:mobilenet-zone-b:470</td>\n",
       "      <td>100.203270</td>\n",
       "      <td>...</td>\n",
       "      <td>100.474483</td>\n",
       "      <td>0.264867</td>\n",
       "      <td>8.857489</td>\n",
       "      <td>10.42.26.214</td>\n",
       "      <td>8080</td>\n",
       "      <td>mobilenet-deployment-eb-b-xeongpu-0-0</td>\n",
       "      <td>edgerun/mobilenet-inference:1.0.0</td>\n",
       "      <td>mobilenet</td>\n",
       "      <td>zone-b</td>\n",
       "      <td>Cloudlet</td>\n",
       "    </tr>\n",
       "    <tr>\n",
       "      <th>1970-01-01 00:01:41.205625593</th>\n",
       "      <td>_result</td>\n",
       "      <td>97</td>\n",
       "      <td>1970-01-01 00:00:00+00:00</td>\n",
       "      <td>2022-07-18 16:40:51.350943+00:00</td>\n",
       "      <td>2022-07-17 16:19:40.531000+00:00</td>\n",
       "      <td>5916cb982f:98</td>\n",
       "      <td>request_id</td>\n",
       "      <td>traces</td>\n",
       "      <td>galileo-worker-zone-b-rrllh:mobilenet-zone-b:470</td>\n",
       "      <td>101.205392</td>\n",
       "      <td>...</td>\n",
       "      <td>101.475423</td>\n",
       "      <td>0.263760</td>\n",
       "      <td>9.981155</td>\n",
       "      <td>10.42.26.214</td>\n",
       "      <td>8080</td>\n",
       "      <td>mobilenet-deployment-eb-b-xeongpu-0-0</td>\n",
       "      <td>edgerun/mobilenet-inference:1.0.0</td>\n",
       "      <td>mobilenet</td>\n",
       "      <td>zone-b</td>\n",
       "      <td>Cloudlet</td>\n",
       "    </tr>\n",
       "    <tr>\n",
       "      <th>1970-01-01 00:01:42.206871331</th>\n",
       "      <td>_result</td>\n",
       "      <td>98</td>\n",
       "      <td>1970-01-01 00:00:00+00:00</td>\n",
       "      <td>2022-07-18 16:40:51.350943+00:00</td>\n",
       "      <td>2022-07-17 16:19:41.532000+00:00</td>\n",
       "      <td>5916cb982f:99</td>\n",
       "      <td>request_id</td>\n",
       "      <td>traces</td>\n",
       "      <td>galileo-worker-zone-b-rrllh:mobilenet-zone-b:470</td>\n",
       "      <td>102.206683</td>\n",
       "      <td>...</td>\n",
       "      <td>102.478415</td>\n",
       "      <td>0.265131</td>\n",
       "      <td>9.153843</td>\n",
       "      <td>10.42.26.214</td>\n",
       "      <td>8080</td>\n",
       "      <td>mobilenet-deployment-eb-b-xeongpu-0-0</td>\n",
       "      <td>edgerun/mobilenet-inference:1.0.0</td>\n",
       "      <td>mobilenet</td>\n",
       "      <td>zone-b</td>\n",
       "      <td>Cloudlet</td>\n",
       "    </tr>\n",
       "    <tr>\n",
       "      <th>1970-01-01 00:01:43.209048807</th>\n",
       "      <td>_result</td>\n",
       "      <td>99</td>\n",
       "      <td>1970-01-01 00:00:00+00:00</td>\n",
       "      <td>2022-07-18 16:40:51.350943+00:00</td>\n",
       "      <td>2022-07-17 16:19:42.534000+00:00</td>\n",
       "      <td>5916cb982f:100</td>\n",
       "      <td>request_id</td>\n",
       "      <td>traces</td>\n",
       "      <td>galileo-worker-zone-b-rrllh:mobilenet-zone-b:470</td>\n",
       "      <td>103.208786</td>\n",
       "      <td>...</td>\n",
       "      <td>103.483818</td>\n",
       "      <td>0.269071</td>\n",
       "      <td>8.905411</td>\n",
       "      <td>10.42.26.214</td>\n",
       "      <td>8080</td>\n",
       "      <td>mobilenet-deployment-eb-b-xeongpu-0-0</td>\n",
       "      <td>edgerun/mobilenet-inference:1.0.0</td>\n",
       "      <td>mobilenet</td>\n",
       "      <td>zone-b</td>\n",
       "      <td>Cloudlet</td>\n",
       "    </tr>\n",
       "  </tbody>\n",
       "</table>\n",
       "<p>5 rows × 34 columns</p>\n",
       "</div>"
      ],
      "text/plain": [
       "                                result  table                    _start  \\\n",
       "sent                                                                      \n",
       "1970-01-01 00:01:39.201430857  _result     95 1970-01-01 00:00:00+00:00   \n",
       "1970-01-01 00:01:40.203507482  _result     96 1970-01-01 00:00:00+00:00   \n",
       "1970-01-01 00:01:41.205625593  _result     97 1970-01-01 00:00:00+00:00   \n",
       "1970-01-01 00:01:42.206871331  _result     98 1970-01-01 00:00:00+00:00   \n",
       "1970-01-01 00:01:43.209048807  _result     99 1970-01-01 00:00:00+00:00   \n",
       "\n",
       "                                                         _stop  \\\n",
       "sent                                                             \n",
       "1970-01-01 00:01:39.201430857 2022-07-18 16:40:51.350943+00:00   \n",
       "1970-01-01 00:01:40.203507482 2022-07-18 16:40:51.350943+00:00   \n",
       "1970-01-01 00:01:41.205625593 2022-07-18 16:40:51.350943+00:00   \n",
       "1970-01-01 00:01:42.206871331 2022-07-18 16:40:51.350943+00:00   \n",
       "1970-01-01 00:01:43.209048807 2022-07-18 16:40:51.350943+00:00   \n",
       "\n",
       "                                                         _time  \\\n",
       "sent                                                             \n",
       "1970-01-01 00:01:39.201430857 2022-07-17 16:19:38.527000+00:00   \n",
       "1970-01-01 00:01:40.203507482 2022-07-17 16:19:39.529000+00:00   \n",
       "1970-01-01 00:01:41.205625593 2022-07-17 16:19:40.531000+00:00   \n",
       "1970-01-01 00:01:42.206871331 2022-07-17 16:19:41.532000+00:00   \n",
       "1970-01-01 00:01:43.209048807 2022-07-17 16:19:42.534000+00:00   \n",
       "\n",
       "                                        value      _field _measurement  \\\n",
       "sent                                                                     \n",
       "1970-01-01 00:01:39.201430857   5916cb982f:96  request_id       traces   \n",
       "1970-01-01 00:01:40.203507482   5916cb982f:97  request_id       traces   \n",
       "1970-01-01 00:01:41.205625593   5916cb982f:98  request_id       traces   \n",
       "1970-01-01 00:01:42.206871331   5916cb982f:99  request_id       traces   \n",
       "1970-01-01 00:01:43.209048807  5916cb982f:100  request_id       traces   \n",
       "\n",
       "                                                                         client  \\\n",
       "sent                                                                              \n",
       "1970-01-01 00:01:39.201430857  galileo-worker-zone-b-rrllh:mobilenet-zone-b:470   \n",
       "1970-01-01 00:01:40.203507482  galileo-worker-zone-b-rrllh:mobilenet-zone-b:470   \n",
       "1970-01-01 00:01:41.205625593  galileo-worker-zone-b-rrllh:mobilenet-zone-b:470   \n",
       "1970-01-01 00:01:42.206871331  galileo-worker-zone-b-rrllh:mobilenet-zone-b:470   \n",
       "1970-01-01 00:01:43.209048807  galileo-worker-zone-b-rrllh:mobilenet-zone-b:470   \n",
       "\n",
       "                                  created  ...         end      exec  \\\n",
       "sent                                       ...                         \n",
       "1970-01-01 00:01:39.201430857   99.201151  ...   99.469750  0.260829   \n",
       "1970-01-01 00:01:40.203507482  100.203270  ...  100.474483  0.264867   \n",
       "1970-01-01 00:01:41.205625593  101.205392  ...  101.475423  0.263760   \n",
       "1970-01-01 00:01:42.206871331  102.206683  ...  102.478415  0.265131   \n",
       "1970-01-01 00:01:43.209048807  103.208786  ...  103.483818  0.269071   \n",
       "\n",
       "                                 latency      final_ip  final_port  \\\n",
       "sent                                                                 \n",
       "1970-01-01 00:01:39.201430857  10.755777  10.42.26.214        8080   \n",
       "1970-01-01 00:01:40.203507482   8.857489  10.42.26.214        8080   \n",
       "1970-01-01 00:01:41.205625593   9.981155  10.42.26.214        8080   \n",
       "1970-01-01 00:01:42.206871331   9.153843  10.42.26.214        8080   \n",
       "1970-01-01 00:01:43.209048807   8.905411  10.42.26.214        8080   \n",
       "\n",
       "                                                            pod_name  \\\n",
       "sent                                                                   \n",
       "1970-01-01 00:01:39.201430857  mobilenet-deployment-eb-b-xeongpu-0-0   \n",
       "1970-01-01 00:01:40.203507482  mobilenet-deployment-eb-b-xeongpu-0-0   \n",
       "1970-01-01 00:01:41.205625593  mobilenet-deployment-eb-b-xeongpu-0-0   \n",
       "1970-01-01 00:01:42.206871331  mobilenet-deployment-eb-b-xeongpu-0-0   \n",
       "1970-01-01 00:01:43.209048807  mobilenet-deployment-eb-b-xeongpu-0-0   \n",
       "\n",
       "                                                       pod_image   function  \\\n",
       "sent                                                                          \n",
       "1970-01-01 00:01:39.201430857  edgerun/mobilenet-inference:1.0.0  mobilenet   \n",
       "1970-01-01 00:01:40.203507482  edgerun/mobilenet-inference:1.0.0  mobilenet   \n",
       "1970-01-01 00:01:41.205625593  edgerun/mobilenet-inference:1.0.0  mobilenet   \n",
       "1970-01-01 00:01:42.206871331  edgerun/mobilenet-inference:1.0.0  mobilenet   \n",
       "1970-01-01 00:01:43.209048807  edgerun/mobilenet-inference:1.0.0  mobilenet   \n",
       "\n",
       "                               dest_zone dest_cluster  \n",
       "sent                                                   \n",
       "1970-01-01 00:01:39.201430857     zone-b     Cloudlet  \n",
       "1970-01-01 00:01:40.203507482     zone-b     Cloudlet  \n",
       "1970-01-01 00:01:41.205625593     zone-b     Cloudlet  \n",
       "1970-01-01 00:01:42.206871331     zone-b     Cloudlet  \n",
       "1970-01-01 00:01:43.209048807     zone-b     Cloudlet  \n",
       "\n",
       "[5 rows x 34 columns]"
      ]
     },
     "execution_count": 7,
     "metadata": {},
     "output_type": "execute_result"
    }
   ],
   "source": [
    "traces = gw.preprocessed_traces(exp_id)\n",
    "traces.tail(5)"
   ]
  },
  {
   "cell_type": "code",
   "execution_count": 8,
   "id": "5b7e3467",
   "metadata": {
    "pycharm": {
     "name": "#%%\n"
    }
   },
   "outputs": [
    {
     "data": {
      "text/plain": [
       "Index(['result', 'table', '_start', '_stop', '_time', 'value', '_field',\n",
       "       '_measurement', 'client', 'created', 'done', 'exp_id', 'headers',\n",
       "       'response', 'sent', 'server', 'service', 'status', 'rtt',\n",
       "       'final_server', 'origin_zone', 'origin_cluster', 'latency_gateway',\n",
       "       'start', 'end', 'exec', 'latency', 'final_ip', 'final_port', 'pod_name',\n",
       "       'pod_image', 'function', 'dest_zone', 'dest_cluster'],\n",
       "      dtype='object')"
      ]
     },
     "execution_count": 8,
     "metadata": {},
     "output_type": "execute_result"
    }
   ],
   "source": [
    "traces.columns"
   ]
  },
  {
   "cell_type": "code",
   "execution_count": 9,
   "id": "795e0bd6",
   "metadata": {
    "pycharm": {
     "name": "#%%\n"
    }
   },
   "outputs": [
    {
     "data": {
      "text/plain": [
       "Text(0, 0.5, 'RTT in seconds')"
      ]
     },
     "execution_count": 9,
     "metadata": {},
     "output_type": "execute_result"
    },
    {
     "data": {
      "image/png": "[encoded data removed]",
      "text/plain": [
       "<Figure size 720x288 with 2 Axes>"
      ]
     },
     "metadata": {
      "needs_background": "light"
     },
     "output_type": "display_data"
    }
   ],
   "source": [
    "fig, axs = plt.subplots(1, 2, constrained_layout=True, figsize=(10, 4))\n",
    "\n",
    "fig.suptitle('RTT')\n",
    "g = sns.lineplot(x='sent', y='rtt', data=traces,ax=axs[0])\n",
    "g.set_ylabel('RTT in seconds')\n",
    "\n",
    "g = sns.barplot(y='rtt',data=traces,ax=axs[1], ci='sd')\n",
    "g.set_ylabel('RTT in seconds')"
   ]
  },
  {
   "cell_type": "markdown",
   "id": "50e6c145",
   "metadata": {},
   "source": [
    "# Replica CPU usage analysis"
   ]
  },
  {
   "cell_type": "code",
   "execution_count": 10,
   "id": "cd592742",
   "metadata": {
    "pycharm": {
     "name": "#%%\n"
    }
   },
   "outputs": [
    {
     "data": {
      "text/html": [
       "<div>\n",
       "<style scoped>\n",
       "    .dataframe tbody tr th:only-of-type {\n",
       "        vertical-align: middle;\n",
       "    }\n",
       "\n",
       "    .dataframe tbody tr th {\n",
       "        vertical-align: top;\n",
       "    }\n",
       "\n",
       "    .dataframe thead th {\n",
       "        text-align: right;\n",
       "    }\n",
       "</style>\n",
       "<table border=\"1\" class=\"dataframe\">\n",
       "  <thead>\n",
       "    <tr style=\"text-align: right;\">\n",
       "      <th></th>\n",
       "      <th>ts</th>\n",
       "      <th>podUid</th>\n",
       "      <th>name</th>\n",
       "      <th>hostIP</th>\n",
       "      <th>podIP</th>\n",
       "      <th>startTime</th>\n",
       "      <th>image</th>\n",
       "      <th>container_id</th>\n",
       "      <th>namespace</th>\n",
       "      <th>nodeName</th>\n",
       "      <th>cpu_request</th>\n",
       "      <th>mem_request</th>\n",
       "      <th>state</th>\n",
       "      <th>zone</th>\n",
       "      <th>cluster</th>\n",
       "      <th>fn</th>\n",
       "      <th>pod_type</th>\n",
       "    </tr>\n",
       "  </thead>\n",
       "  <tbody>\n",
       "    <tr>\n",
       "      <th>0</th>\n",
       "      <td>1.841622</td>\n",
       "      <td>1b4b65b6-84b4-41d7-9e2b-1a7c145edfb4</td>\n",
       "      <td>mobilenet-deployment-eb-b-xeongpu-0-0</td>\n",
       "      <td>10.0.2.50</td>\n",
       "      <td>10.42.26.214</td>\n",
       "      <td>2022-07-17T16:17:51Z</td>\n",
       "      <td>edgerun/mobilenet-inference:1.0.0</td>\n",
       "      <td>8e2ec7eef9c9cdeb79adfbcb20532cad55adab08dbe767...</td>\n",
       "      <td>default</td>\n",
       "      <td>eb-b-xeongpu-0</td>\n",
       "      <td>100</td>\n",
       "      <td>209715200</td>\n",
       "      <td>running</td>\n",
       "      <td>zone-b</td>\n",
       "      <td>Cloudlet</td>\n",
       "      <td>mobilenet</td>\n",
       "      <td>N/A</td>\n",
       "    </tr>\n",
       "  </tbody>\n",
       "</table>\n",
       "</div>"
      ],
      "text/plain": [
       "         ts                                podUid  \\\n",
       "0  1.841622  1b4b65b6-84b4-41d7-9e2b-1a7c145edfb4   \n",
       "\n",
       "                                    name     hostIP         podIP  \\\n",
       "0  mobilenet-deployment-eb-b-xeongpu-0-0  10.0.2.50  10.42.26.214   \n",
       "\n",
       "              startTime                              image  \\\n",
       "0  2022-07-17T16:17:51Z  edgerun/mobilenet-inference:1.0.0   \n",
       "\n",
       "                                        container_id namespace  \\\n",
       "0  8e2ec7eef9c9cdeb79adfbcb20532cad55adab08dbe767...   default   \n",
       "\n",
       "         nodeName  cpu_request  mem_request    state    zone   cluster  \\\n",
       "0  eb-b-xeongpu-0          100    209715200  running  zone-b  Cloudlet   \n",
       "\n",
       "          fn pod_type  \n",
       "0  mobilenet      N/A  "
      ]
     },
     "execution_count": 10,
     "metadata": {},
     "output_type": "execute_result"
    }
   ],
   "source": [
    "replicas = gw.get_replicas(exp_id)\n",
    "replicas"
   ]
  },
  {
   "cell_type": "code",
   "execution_count": 11,
   "id": "a5f61061",
   "metadata": {
    "pycharm": {
     "name": "#%%\n"
    }
   },
   "outputs": [
    {
     "data": {
      "text/plain": [
       "Index(['result', 'table', '_start', '_stop', '_time', 'value', '_field',\n",
       "       '_measurement', 'exp_id', 'metric', 'node', 'subsystem', 'value_ms',\n",
       "       'milli_cores', 'percentage', 'percentage_relative', 'zone', 'cluster',\n",
       "       'name', 'id', 'image', 'cpu_request', 'mem_request_mb'],\n",
       "      dtype='object')"
      ]
     },
     "execution_count": 11,
     "metadata": {},
     "output_type": "execute_result"
    }
   ],
   "source": [
    "replica_name_pattern = 'mobilenet'\n",
    "cpu_containers = gw.get_cpu_containers_by_name(exp_id, replica_name_pattern)\n",
    "cpu_containers = cpu_containers.drop(labels='ts',axis=1)\n",
    "cpu_containers.columns"
   ]
  },
  {
   "cell_type": "code",
   "execution_count": 12,
   "id": "ecf274ec",
   "metadata": {
    "pycharm": {
     "name": "#%%\n"
    }
   },
   "outputs": [
    {
     "data": {
      "text/plain": [
       "<AxesSubplot:xlabel='ts', ylabel='percentage_relative'>"
      ]
     },
     "execution_count": 12,
     "metadata": {},
     "output_type": "execute_result"
    },
    {
     "data": {
      "image/png": "[encoded data removed]",
      "text/plain": [
       "<Figure size 720x288 with 2 Axes>"
      ]
     },
     "metadata": {
      "needs_background": "light"
     },
     "output_type": "display_data"
    }
   ],
   "source": [
    "fig, axs = plt.subplots(1, 2, constrained_layout=True, figsize=(10, 4))\n",
    "\n",
    "df = cpu_containers.reset_index()\n",
    "df['ts'] = df['ts'].map(lambda x: x.ceil('s'))\n",
    "\n",
    "g = sns.lineplot(x='ts', y='percentage', hue='node',markers=True, dashes=False, data=df, ax=axs[0])\n",
    "sns.lineplot(x='ts', y='percentage_relative', hue='node',markers=True, dashes=False, data=df, ax=axs[1])"
   ]
  },
  {
   "cell_type": "code",
   "execution_count": 13,
   "id": "11e07874",
   "metadata": {
    "pycharm": {
     "name": "#%%\n"
    }
   },
   "outputs": [
    {
     "data": {
      "text/plain": [
       "Index(['ts', 'result', 'table', '_start', '_stop', '_time', 'value', '_field',\n",
       "       '_measurement', 'exp_id', 'metric', 'node', 'subsystem', 'value_ms',\n",
       "       'milli_cores', 'percentage', 'percentage_relative', 'zone', 'cluster',\n",
       "       'name', 'id', 'image', 'cpu_request', 'mem_request_mb'],\n",
       "      dtype='object')"
      ]
     },
     "execution_count": 13,
     "metadata": {},
     "output_type": "execute_result"
    }
   ],
   "source": [
    "df.columns"
   ]
  },
  {
   "cell_type": "markdown",
   "id": "fc356cc1",
   "metadata": {},
   "source": [
    "# Telemetry data"
   ]
  },
  {
   "cell_type": "code",
   "execution_count": 14,
   "id": "68ff536e",
   "metadata": {
    "pycharm": {
     "name": "#%%\n"
    }
   },
   "outputs": [
    {
     "data": {
      "text/html": [
       "<div>\n",
       "<style scoped>\n",
       "    .dataframe tbody tr th:only-of-type {\n",
       "        vertical-align: middle;\n",
       "    }\n",
       "\n",
       "    .dataframe tbody tr th {\n",
       "        vertical-align: top;\n",
       "    }\n",
       "\n",
       "    .dataframe thead th {\n",
       "        text-align: right;\n",
       "    }\n",
       "</style>\n",
       "<table border=\"1\" class=\"dataframe\">\n",
       "  <thead>\n",
       "    <tr style=\"text-align: right;\">\n",
       "      <th></th>\n",
       "      <th>result</th>\n",
       "      <th>table</th>\n",
       "      <th>_start</th>\n",
       "      <th>_stop</th>\n",
       "      <th>_time</th>\n",
       "      <th>value</th>\n",
       "      <th>_field</th>\n",
       "      <th>_measurement</th>\n",
       "      <th>exp_id</th>\n",
       "      <th>metric</th>\n",
       "      <th>node</th>\n",
       "      <th>ts</th>\n",
       "      <th>subsystem</th>\n",
       "    </tr>\n",
       "    <tr>\n",
       "      <th>ts</th>\n",
       "      <th></th>\n",
       "      <th></th>\n",
       "      <th></th>\n",
       "      <th></th>\n",
       "      <th></th>\n",
       "      <th></th>\n",
       "      <th></th>\n",
       "      <th></th>\n",
       "      <th></th>\n",
       "      <th></th>\n",
       "      <th></th>\n",
       "      <th></th>\n",
       "      <th></th>\n",
       "    </tr>\n",
       "  </thead>\n",
       "  <tbody>\n",
       "    <tr>\n",
       "      <th>1970-01-01 00:00:01.442381441</th>\n",
       "      <td>_result</td>\n",
       "      <td>0</td>\n",
       "      <td>1970-01-01 00:00:00+00:00</td>\n",
       "      <td>2022-07-18 16:41:15.931060+00:00</td>\n",
       "      <td>2022-07-17 16:18:00.768000+00:00</td>\n",
       "      <td>9.500000</td>\n",
       "      <td>value</td>\n",
       "      <td>telemetry</td>\n",
       "      <td>202207171617-e177</td>\n",
       "      <td>cpu</td>\n",
       "      <td>eb-b-xeongpu-0</td>\n",
       "      <td>1.442381</td>\n",
       "      <td>NaN</td>\n",
       "    </tr>\n",
       "    <tr>\n",
       "      <th>1970-01-01 00:00:02.442061484</th>\n",
       "      <td>_result</td>\n",
       "      <td>1</td>\n",
       "      <td>1970-01-01 00:00:00+00:00</td>\n",
       "      <td>2022-07-18 16:41:15.931060+00:00</td>\n",
       "      <td>2022-07-17 16:18:01.767000+00:00</td>\n",
       "      <td>3.000000</td>\n",
       "      <td>value</td>\n",
       "      <td>telemetry</td>\n",
       "      <td>202207171617-e177</td>\n",
       "      <td>cpu</td>\n",
       "      <td>eb-b-xeongpu-0</td>\n",
       "      <td>2.442061</td>\n",
       "      <td>NaN</td>\n",
       "    </tr>\n",
       "    <tr>\n",
       "      <th>1970-01-01 00:00:03.442157090</th>\n",
       "      <td>_result</td>\n",
       "      <td>2</td>\n",
       "      <td>1970-01-01 00:00:00+00:00</td>\n",
       "      <td>2022-07-18 16:41:15.931060+00:00</td>\n",
       "      <td>2022-07-17 16:18:02.767000+00:00</td>\n",
       "      <td>2.030457</td>\n",
       "      <td>value</td>\n",
       "      <td>telemetry</td>\n",
       "      <td>202207171617-e177</td>\n",
       "      <td>cpu</td>\n",
       "      <td>eb-b-xeongpu-0</td>\n",
       "      <td>3.442157</td>\n",
       "      <td>NaN</td>\n",
       "    </tr>\n",
       "    <tr>\n",
       "      <th>1970-01-01 00:00:04.442894995</th>\n",
       "      <td>_result</td>\n",
       "      <td>3</td>\n",
       "      <td>1970-01-01 00:00:00+00:00</td>\n",
       "      <td>2022-07-18 16:41:15.931060+00:00</td>\n",
       "      <td>2022-07-17 16:18:03.768000+00:00</td>\n",
       "      <td>14.070352</td>\n",
       "      <td>value</td>\n",
       "      <td>telemetry</td>\n",
       "      <td>202207171617-e177</td>\n",
       "      <td>cpu</td>\n",
       "      <td>eb-b-xeongpu-0</td>\n",
       "      <td>4.442895</td>\n",
       "      <td>NaN</td>\n",
       "    </tr>\n",
       "    <tr>\n",
       "      <th>1970-01-01 00:00:05.441988289</th>\n",
       "      <td>_result</td>\n",
       "      <td>4</td>\n",
       "      <td>1970-01-01 00:00:00+00:00</td>\n",
       "      <td>2022-07-18 16:41:15.931060+00:00</td>\n",
       "      <td>2022-07-17 16:18:04.767000+00:00</td>\n",
       "      <td>12.500000</td>\n",
       "      <td>value</td>\n",
       "      <td>telemetry</td>\n",
       "      <td>202207171617-e177</td>\n",
       "      <td>cpu</td>\n",
       "      <td>eb-b-xeongpu-0</td>\n",
       "      <td>5.441988</td>\n",
       "      <td>NaN</td>\n",
       "    </tr>\n",
       "    <tr>\n",
       "      <th>...</th>\n",
       "      <td>...</td>\n",
       "      <td>...</td>\n",
       "      <td>...</td>\n",
       "      <td>...</td>\n",
       "      <td>...</td>\n",
       "      <td>...</td>\n",
       "      <td>...</td>\n",
       "      <td>...</td>\n",
       "      <td>...</td>\n",
       "      <td>...</td>\n",
       "      <td>...</td>\n",
       "      <td>...</td>\n",
       "      <td>...</td>\n",
       "    </tr>\n",
       "    <tr>\n",
       "      <th>1970-01-01 00:01:45.953573286</th>\n",
       "      <td>_result</td>\n",
       "      <td>8715</td>\n",
       "      <td>1970-01-01 00:00:00+00:00</td>\n",
       "      <td>2022-07-18 16:41:15.931060+00:00</td>\n",
       "      <td>2022-07-17 16:19:45.279000+00:00</td>\n",
       "      <td>0.000000</td>\n",
       "      <td>value</td>\n",
       "      <td>telemetry</td>\n",
       "      <td>202207171617-e177</td>\n",
       "      <td>wr</td>\n",
       "      <td>eb-b-xeongpu-0</td>\n",
       "      <td>105.953573</td>\n",
       "      <td>sdb</td>\n",
       "    </tr>\n",
       "    <tr>\n",
       "      <th>1970-01-01 00:01:46.947261631</th>\n",
       "      <td>_result</td>\n",
       "      <td>8716</td>\n",
       "      <td>1970-01-01 00:00:00+00:00</td>\n",
       "      <td>2022-07-18 16:41:15.931060+00:00</td>\n",
       "      <td>2022-07-17 16:19:46.273000+00:00</td>\n",
       "      <td>0.000000</td>\n",
       "      <td>value</td>\n",
       "      <td>telemetry</td>\n",
       "      <td>202207171617-e177</td>\n",
       "      <td>wr</td>\n",
       "      <td>eb-b-xeongpu-0</td>\n",
       "      <td>106.947262</td>\n",
       "      <td>sdb</td>\n",
       "    </tr>\n",
       "    <tr>\n",
       "      <th>1970-01-01 00:01:47.977155983</th>\n",
       "      <td>_result</td>\n",
       "      <td>8717</td>\n",
       "      <td>1970-01-01 00:00:00+00:00</td>\n",
       "      <td>2022-07-18 16:41:15.931060+00:00</td>\n",
       "      <td>2022-07-17 16:19:47.302000+00:00</td>\n",
       "      <td>0.000000</td>\n",
       "      <td>value</td>\n",
       "      <td>telemetry</td>\n",
       "      <td>202207171617-e177</td>\n",
       "      <td>wr</td>\n",
       "      <td>eb-b-xeongpu-0</td>\n",
       "      <td>107.977156</td>\n",
       "      <td>sdb</td>\n",
       "    </tr>\n",
       "    <tr>\n",
       "      <th>1970-01-01 00:01:48.960244953</th>\n",
       "      <td>_result</td>\n",
       "      <td>8718</td>\n",
       "      <td>1970-01-01 00:00:00+00:00</td>\n",
       "      <td>2022-07-18 16:41:15.931060+00:00</td>\n",
       "      <td>2022-07-17 16:19:48.285000+00:00</td>\n",
       "      <td>0.000000</td>\n",
       "      <td>value</td>\n",
       "      <td>telemetry</td>\n",
       "      <td>202207171617-e177</td>\n",
       "      <td>wr</td>\n",
       "      <td>eb-b-xeongpu-0</td>\n",
       "      <td>108.960245</td>\n",
       "      <td>sdb</td>\n",
       "    </tr>\n",
       "    <tr>\n",
       "      <th>1970-01-01 00:01:49.948322594</th>\n",
       "      <td>_result</td>\n",
       "      <td>8719</td>\n",
       "      <td>1970-01-01 00:00:00+00:00</td>\n",
       "      <td>2022-07-18 16:41:15.931060+00:00</td>\n",
       "      <td>2022-07-17 16:19:49.274000+00:00</td>\n",
       "      <td>0.000000</td>\n",
       "      <td>value</td>\n",
       "      <td>telemetry</td>\n",
       "      <td>202207171617-e177</td>\n",
       "      <td>wr</td>\n",
       "      <td>eb-b-xeongpu-0</td>\n",
       "      <td>109.948323</td>\n",
       "      <td>sdb</td>\n",
       "    </tr>\n",
       "  </tbody>\n",
       "</table>\n",
       "<p>8720 rows × 13 columns</p>\n",
       "</div>"
      ],
      "text/plain": [
       "                                result  table                    _start  \\\n",
       "ts                                                                        \n",
       "1970-01-01 00:00:01.442381441  _result      0 1970-01-01 00:00:00+00:00   \n",
       "1970-01-01 00:00:02.442061484  _result      1 1970-01-01 00:00:00+00:00   \n",
       "1970-01-01 00:00:03.442157090  _result      2 1970-01-01 00:00:00+00:00   \n",
       "1970-01-01 00:00:04.442894995  _result      3 1970-01-01 00:00:00+00:00   \n",
       "1970-01-01 00:00:05.441988289  _result      4 1970-01-01 00:00:00+00:00   \n",
       "...                                ...    ...                       ...   \n",
       "1970-01-01 00:01:45.953573286  _result   8715 1970-01-01 00:00:00+00:00   \n",
       "1970-01-01 00:01:46.947261631  _result   8716 1970-01-01 00:00:00+00:00   \n",
       "1970-01-01 00:01:47.977155983  _result   8717 1970-01-01 00:00:00+00:00   \n",
       "1970-01-01 00:01:48.960244953  _result   8718 1970-01-01 00:00:00+00:00   \n",
       "1970-01-01 00:01:49.948322594  _result   8719 1970-01-01 00:00:00+00:00   \n",
       "\n",
       "                                                         _stop  \\\n",
       "ts                                                               \n",
       "1970-01-01 00:00:01.442381441 2022-07-18 16:41:15.931060+00:00   \n",
       "1970-01-01 00:00:02.442061484 2022-07-18 16:41:15.931060+00:00   \n",
       "1970-01-01 00:00:03.442157090 2022-07-18 16:41:15.931060+00:00   \n",
       "1970-01-01 00:00:04.442894995 2022-07-18 16:41:15.931060+00:00   \n",
       "1970-01-01 00:00:05.441988289 2022-07-18 16:41:15.931060+00:00   \n",
       "...                                                        ...   \n",
       "1970-01-01 00:01:45.953573286 2022-07-18 16:41:15.931060+00:00   \n",
       "1970-01-01 00:01:46.947261631 2022-07-18 16:41:15.931060+00:00   \n",
       "1970-01-01 00:01:47.977155983 2022-07-18 16:41:15.931060+00:00   \n",
       "1970-01-01 00:01:48.960244953 2022-07-18 16:41:15.931060+00:00   \n",
       "1970-01-01 00:01:49.948322594 2022-07-18 16:41:15.931060+00:00   \n",
       "\n",
       "                                                         _time      value  \\\n",
       "ts                                                                          \n",
       "1970-01-01 00:00:01.442381441 2022-07-17 16:18:00.768000+00:00   9.500000   \n",
       "1970-01-01 00:00:02.442061484 2022-07-17 16:18:01.767000+00:00   3.000000   \n",
       "1970-01-01 00:00:03.442157090 2022-07-17 16:18:02.767000+00:00   2.030457   \n",
       "1970-01-01 00:00:04.442894995 2022-07-17 16:18:03.768000+00:00  14.070352   \n",
       "1970-01-01 00:00:05.441988289 2022-07-17 16:18:04.767000+00:00  12.500000   \n",
       "...                                                        ...        ...   \n",
       "1970-01-01 00:01:45.953573286 2022-07-17 16:19:45.279000+00:00   0.000000   \n",
       "1970-01-01 00:01:46.947261631 2022-07-17 16:19:46.273000+00:00   0.000000   \n",
       "1970-01-01 00:01:47.977155983 2022-07-17 16:19:47.302000+00:00   0.000000   \n",
       "1970-01-01 00:01:48.960244953 2022-07-17 16:19:48.285000+00:00   0.000000   \n",
       "1970-01-01 00:01:49.948322594 2022-07-17 16:19:49.274000+00:00   0.000000   \n",
       "\n",
       "                              _field _measurement             exp_id metric  \\\n",
       "ts                                                                            \n",
       "1970-01-01 00:00:01.442381441  value    telemetry  202207171617-e177    cpu   \n",
       "1970-01-01 00:00:02.442061484  value    telemetry  202207171617-e177    cpu   \n",
       "1970-01-01 00:00:03.442157090  value    telemetry  202207171617-e177    cpu   \n",
       "1970-01-01 00:00:04.442894995  value    telemetry  202207171617-e177    cpu   \n",
       "1970-01-01 00:00:05.441988289  value    telemetry  202207171617-e177    cpu   \n",
       "...                              ...          ...                ...    ...   \n",
       "1970-01-01 00:01:45.953573286  value    telemetry  202207171617-e177     wr   \n",
       "1970-01-01 00:01:46.947261631  value    telemetry  202207171617-e177     wr   \n",
       "1970-01-01 00:01:47.977155983  value    telemetry  202207171617-e177     wr   \n",
       "1970-01-01 00:01:48.960244953  value    telemetry  202207171617-e177     wr   \n",
       "1970-01-01 00:01:49.948322594  value    telemetry  202207171617-e177     wr   \n",
       "\n",
       "                                         node          ts subsystem  \n",
       "ts                                                                   \n",
       "1970-01-01 00:00:01.442381441  eb-b-xeongpu-0    1.442381       NaN  \n",
       "1970-01-01 00:00:02.442061484  eb-b-xeongpu-0    2.442061       NaN  \n",
       "1970-01-01 00:00:03.442157090  eb-b-xeongpu-0    3.442157       NaN  \n",
       "1970-01-01 00:00:04.442894995  eb-b-xeongpu-0    4.442895       NaN  \n",
       "1970-01-01 00:00:05.441988289  eb-b-xeongpu-0    5.441988       NaN  \n",
       "...                                       ...         ...       ...  \n",
       "1970-01-01 00:01:45.953573286  eb-b-xeongpu-0  105.953573       sdb  \n",
       "1970-01-01 00:01:46.947261631  eb-b-xeongpu-0  106.947262       sdb  \n",
       "1970-01-01 00:01:47.977155983  eb-b-xeongpu-0  107.977156       sdb  \n",
       "1970-01-01 00:01:48.960244953  eb-b-xeongpu-0  108.960245       sdb  \n",
       "1970-01-01 00:01:49.948322594  eb-b-xeongpu-0  109.948323       sdb  \n",
       "\n",
       "[8720 rows x 13 columns]"
      ]
     },
     "execution_count": 14,
     "metadata": {},
     "output_type": "execute_result"
    }
   ],
   "source": [
    "tel = gw.preprocessed_telemetry(exp_id)\n",
    "tel"
   ]
  },
  {
   "cell_type": "code",
   "execution_count": 15,
   "id": "878d969f",
   "metadata": {
    "pycharm": {
     "name": "#%%\n"
    }
   },
   "outputs": [
    {
     "data": {
      "text/plain": [
       "array(['cpu', 'freq', 'kubernetes_cgrp_blkio', 'kubernetes_cgrp_cpu',\n",
       "       'kubernetes_cgrp_memory', 'kubernetes_cgrp_net', 'load1', 'load5',\n",
       "       'procs', 'psi_cpu', 'psi_io', 'psi_memory', 'ram', 'rd', 'rx',\n",
       "       'tx', 'wr'], dtype=object)"
      ]
     },
     "execution_count": 15,
     "metadata": {},
     "output_type": "execute_result"
    }
   ],
   "source": [
    "tel['metric'].unique()"
   ]
  },
  {
   "cell_type": "code",
   "execution_count": 16,
   "id": "44a780ca",
   "metadata": {
    "pycharm": {
     "name": "#%%\n"
    }
   },
   "outputs": [
    {
     "data": {
      "text/plain": [
       "array(['eb-b-xeongpu-0'], dtype=object)"
      ]
     },
     "execution_count": 16,
     "metadata": {},
     "output_type": "execute_result"
    }
   ],
   "source": [
    "tel['node'].unique()"
   ]
  },
  {
   "cell_type": "code",
   "execution_count": 17,
   "id": "feb54f32",
   "metadata": {
    "pycharm": {
     "name": "#%%\n"
    }
   },
   "outputs": [],
   "source": [
    "container_id = replicas.iloc[0]['container_id']"
   ]
  },
  {
   "cell_type": "code",
   "execution_count": 18,
   "id": "a0d7f7ed",
   "metadata": {
    "pycharm": {
     "name": "#%%\n"
    }
   },
   "outputs": [
    {
     "data": {
      "image/png": "[encoded data removed]",
      "text/plain": [
       "<Figure size 1080x720 with 6 Axes>"
      ]
     },
     "metadata": {
      "needs_background": "light"
     },
     "output_type": "display_data"
    }
   ],
   "source": [
    "fig, axs = plt.subplots(2, 3, figsize=(15, 10), sharex=True)\n",
    "\n",
    "try:\n",
    "    blkio = gw.get_blkio_rate_container(exp_id, container_id)\n",
    "except Error:\n",
    "    blkio = None\n",
    "\n",
    "memory = tel[tel['metric'] == 'kubernetes_cgrp_memory']\n",
    "memory = memory[memory['subsystem'] == container_id]\n",
    "\n",
    "# Show minutes and seconds\n",
    "time_format = \"%M:%S\"\n",
    "time_form = DateFormatter(time_format)\n",
    "\n",
    "net = gw.get_network_rate_container(exp_id, container_id)\n",
    "\n",
    "if blkio is not None:\n",
    "    # Blkio Rate per container\n",
    "    g = sns.lineplot(x=blkio.index,y='blkio_rate',data=blkio,ax=axs[0, 0])\n",
    "    g.set_title('Blkio')\n",
    "    g.set_ylabel('I/O datarate in kybte/s')\n",
    "\n",
    "\n",
    "# Memory usage per container\n",
    "g = sns.lineplot(x=memory.index,y='value',data=memory,ax=axs[0, 1])\n",
    "g.set_title('Memory')\n",
    "g.set_ylabel('Memory used in MB')\n",
    "\n",
    "# Network I/O rate per container\n",
    "if net is not None:\n",
    "    g = sns.lineplot(x=net.index,y='net_rate',data=net,ax=axs[0, 2])\n",
    "    g.set_title('Net')\n",
    "    g.set_ylabel('Read/Write Network kbyte/s')\n",
    "\n",
    "\n",
    "# Node CPU Usage\n",
    "tel_cpu = tel[tel['metric'] == 'cpu']\n",
    "tel_cpu = tel_cpu[tel_cpu['node'] == node]\n",
    "g = sns.lineplot(x=tel_cpu.index ,y='value', data=tel_cpu, ax=axs[1, 0])\n",
    "g.set_title('Node CPU usage')\n",
    "g.set_ylabel('CPU usage in %')\n",
    "g.set_xlabel('Minute:Seconds')\n",
    "\n",
    "axs[1,0].xaxis.set_major_formatter(time_form)\n",
    "axs[1,0].tick_params(axis='x', labelrotation = 25)\n",
    "\n",
    "# CPU usage per container\n",
    "df = cpu_containers.reset_index()\n",
    "df['ts'] = df['ts'].map(lambda x: x.ceil('s'))\n",
    "g = sns.lineplot(x='ts', y='percentage', hue='node',markers=True, dashes=False, data=df, ax=axs[1, 1])\n",
    "g.set_title('CPU usage in % of container')\n",
    "g.set_ylabel('CPU usage in %')\n",
    "g.set_xlabel('Minute:Seconds')\n",
    "\n",
    "axs[1,1].xaxis.set_major_formatter(time_form)\n",
    "axs[1,1].tick_params(axis='x', labelrotation = 25)\n",
    "\n",
    "\n",
    "# Emtpy\n",
    "\n",
    "axs[1,2].xaxis.set_major_formatter(time_form)\n",
    "axs[1,2].tick_params(axis='x', labelrotation = 25)"
   ]
  },
  {
   "cell_type": "code",
   "execution_count": null,
   "id": "2b689acb",
   "metadata": {},
   "outputs": [],
   "source": []
  }
 ],
 "metadata": {
  "kernelspec": {
   "display_name": "Python 3 (ipykernel)",
   "language": "python",
   "name": "python3"
  },
  "language_info": {
   "codemirror_mode": {
    "name": "ipython",
    "version": 3
   },
   "file_extension": ".py",
   "mimetype": "text/x-python",
   "name": "python",
   "nbconvert_exporter": "python",
   "pygments_lexer": "ipython3",
   "version": "3.9.13"
  }
 },
 "nbformat": 4,
 "nbformat_minor": 5
}
